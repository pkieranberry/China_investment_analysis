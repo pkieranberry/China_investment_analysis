{
 "cells": [
  {
   "cell_type": "code",
   "execution_count": 1,
   "metadata": {},
   "outputs": [],
   "source": [
    "import pandas as pd\n",
    "import seaborn as sb"
   ]
  },
  {
   "cell_type": "code",
   "execution_count": 2,
   "metadata": {},
   "outputs": [],
   "source": [
    "prc = pd.read_excel(\"/Users/patrickhenneberry/Desktop/China-Global-Investment-Tracker-2018-1.xlsx\", \n",
    "                    header=5, \n",
    "                    sheet_name=\"Dataset 1\")"
   ]
  },
  {
   "cell_type": "code",
   "execution_count": 3,
   "metadata": {},
   "outputs": [
    {
     "data": {
      "text/html": [
       "<div>\n",
       "<style scoped>\n",
       "    .dataframe tbody tr th:only-of-type {\n",
       "        vertical-align: middle;\n",
       "    }\n",
       "\n",
       "    .dataframe tbody tr th {\n",
       "        vertical-align: top;\n",
       "    }\n",
       "\n",
       "    .dataframe thead th {\n",
       "        text-align: right;\n",
       "    }\n",
       "</style>\n",
       "<table border=\"1\" class=\"dataframe\">\n",
       "  <thead>\n",
       "    <tr style=\"text-align: right;\">\n",
       "      <th></th>\n",
       "      <th>Year</th>\n",
       "      <th>Month</th>\n",
       "      <th>Investor</th>\n",
       "      <th>Quantity in Millions</th>\n",
       "      <th>Share Size</th>\n",
       "      <th>Transaction Party</th>\n",
       "      <th>Sector</th>\n",
       "      <th>Subsector</th>\n",
       "      <th>Country</th>\n",
       "      <th>Region</th>\n",
       "      <th>BRI</th>\n",
       "      <th>Greenfield</th>\n",
       "    </tr>\n",
       "  </thead>\n",
       "  <tbody>\n",
       "    <tr>\n",
       "      <th>0</th>\n",
       "      <td>2005</td>\n",
       "      <td>January</td>\n",
       "      <td>Minmetals</td>\n",
       "      <td>500</td>\n",
       "      <td>NaN</td>\n",
       "      <td>Cubapetroleo</td>\n",
       "      <td>Metals</td>\n",
       "      <td>NaN</td>\n",
       "      <td>Cuba</td>\n",
       "      <td>North America</td>\n",
       "      <td>NaN</td>\n",
       "      <td>G</td>\n",
       "    </tr>\n",
       "    <tr>\n",
       "      <th>1</th>\n",
       "      <td>2005</td>\n",
       "      <td>January</td>\n",
       "      <td>China Academy of Sciences</td>\n",
       "      <td>1740</td>\n",
       "      <td>NaN</td>\n",
       "      <td>IBM</td>\n",
       "      <td>Technology</td>\n",
       "      <td>NaN</td>\n",
       "      <td>USA</td>\n",
       "      <td>USA</td>\n",
       "      <td>NaN</td>\n",
       "      <td>NaN</td>\n",
       "    </tr>\n",
       "    <tr>\n",
       "      <th>2</th>\n",
       "      <td>2005</td>\n",
       "      <td>February</td>\n",
       "      <td>Minmetals</td>\n",
       "      <td>550</td>\n",
       "      <td>0.5</td>\n",
       "      <td>Codelco</td>\n",
       "      <td>Metals</td>\n",
       "      <td>Copper</td>\n",
       "      <td>Chile</td>\n",
       "      <td>South America</td>\n",
       "      <td>NaN</td>\n",
       "      <td>G</td>\n",
       "    </tr>\n",
       "    <tr>\n",
       "      <th>3</th>\n",
       "      <td>2005</td>\n",
       "      <td>March</td>\n",
       "      <td>MCC</td>\n",
       "      <td>670</td>\n",
       "      <td>0.85</td>\n",
       "      <td>Highlands Pacific</td>\n",
       "      <td>Metals</td>\n",
       "      <td>Steel</td>\n",
       "      <td>Papua New Guinea</td>\n",
       "      <td>East Asia</td>\n",
       "      <td>NaN</td>\n",
       "      <td>G</td>\n",
       "    </tr>\n",
       "    <tr>\n",
       "      <th>4</th>\n",
       "      <td>2005</td>\n",
       "      <td>April</td>\n",
       "      <td>CNOOC</td>\n",
       "      <td>130</td>\n",
       "      <td>0.17</td>\n",
       "      <td>MEG Energy</td>\n",
       "      <td>Energy</td>\n",
       "      <td>Oil</td>\n",
       "      <td>Canada</td>\n",
       "      <td>North America</td>\n",
       "      <td>NaN</td>\n",
       "      <td>NaN</td>\n",
       "    </tr>\n",
       "  </tbody>\n",
       "</table>\n",
       "</div>"
      ],
      "text/plain": [
       "   Year     Month                   Investor  Quantity in Millions Share Size  \\\n",
       "0  2005   January                  Minmetals                   500        NaN   \n",
       "1  2005   January  China Academy of Sciences                  1740        NaN   \n",
       "2  2005  February                  Minmetals                   550        0.5   \n",
       "3  2005     March                        MCC                   670       0.85   \n",
       "4  2005     April                      CNOOC                   130       0.17   \n",
       "\n",
       "   Transaction Party      Sector Subsector             Country         Region  \\\n",
       "0       Cubapetroleo      Metals       NaN                Cuba  North America   \n",
       "1                IBM  Technology       NaN                 USA            USA   \n",
       "2            Codelco      Metals    Copper               Chile  South America   \n",
       "3  Highlands Pacific      Metals     Steel   Papua New Guinea       East Asia   \n",
       "4         MEG Energy      Energy       Oil              Canada  North America   \n",
       "\n",
       "   BRI Greenfield  \n",
       "0  NaN          G  \n",
       "1  NaN        NaN  \n",
       "2  NaN          G  \n",
       "3  NaN          G  \n",
       "4  NaN        NaN  "
      ]
     },
     "execution_count": 3,
     "metadata": {},
     "output_type": "execute_result"
    }
   ],
   "source": [
    "prc.head()"
   ]
  },
  {
   "cell_type": "code",
   "execution_count": 4,
   "metadata": {},
   "outputs": [
    {
     "data": {
      "text/plain": [
       "2016    234\n",
       "2017    181\n",
       "2015    178\n",
       "2014    160\n",
       "2018    156\n",
       "2012    118\n",
       "2013    117\n",
       "2011    102\n",
       "2010     77\n",
       "2009     62\n",
       "2008     42\n",
       "2007     27\n",
       "2006     21\n",
       "2005     13\n",
       "Name: Year, dtype: int64"
      ]
     },
     "execution_count": 4,
     "metadata": {},
     "output_type": "execute_result"
    }
   ],
   "source": [
    "prc.Year.value_counts()"
   ]
  },
  {
   "cell_type": "code",
   "execution_count": 5,
   "metadata": {},
   "outputs": [],
   "source": [
    "fy18 = prc[prc.Year == 2018]\n",
    "fy18.columns = ['year', 'month', 'investor', 'quant_in_mil', 'share_size', 'transaction_party', 'sector', 'subsector', 'country', 'region', 'BRI', 'Greenfield']          "
   ]
  },
  {
   "cell_type": "code",
   "execution_count": 6,
   "metadata": {},
   "outputs": [
    {
     "data": {
      "text/html": [
       "<div>\n",
       "<style scoped>\n",
       "    .dataframe tbody tr th:only-of-type {\n",
       "        vertical-align: middle;\n",
       "    }\n",
       "\n",
       "    .dataframe tbody tr th {\n",
       "        vertical-align: top;\n",
       "    }\n",
       "\n",
       "    .dataframe thead th {\n",
       "        text-align: right;\n",
       "    }\n",
       "</style>\n",
       "<table border=\"1\" class=\"dataframe\">\n",
       "  <thead>\n",
       "    <tr style=\"text-align: right;\">\n",
       "      <th></th>\n",
       "      <th>year</th>\n",
       "      <th>month</th>\n",
       "      <th>investor</th>\n",
       "      <th>quant_in_mil</th>\n",
       "      <th>share_size</th>\n",
       "      <th>transaction_party</th>\n",
       "      <th>sector</th>\n",
       "      <th>subsector</th>\n",
       "      <th>country</th>\n",
       "      <th>region</th>\n",
       "      <th>BRI</th>\n",
       "      <th>Greenfield</th>\n",
       "    </tr>\n",
       "  </thead>\n",
       "  <tbody>\n",
       "    <tr>\n",
       "      <th>1332</th>\n",
       "      <td>2018</td>\n",
       "      <td>January</td>\n",
       "      <td>China Merchants</td>\n",
       "      <td>1120</td>\n",
       "      <td>0.7</td>\n",
       "      <td>NaN</td>\n",
       "      <td>Transport</td>\n",
       "      <td>Shipping</td>\n",
       "      <td>Sri Lanka</td>\n",
       "      <td>West Asia</td>\n",
       "      <td>1.0</td>\n",
       "      <td>G</td>\n",
       "    </tr>\n",
       "    <tr>\n",
       "      <th>1333</th>\n",
       "      <td>2018</td>\n",
       "      <td>January</td>\n",
       "      <td>China Poly, Sinomach</td>\n",
       "      <td>310</td>\n",
       "      <td>0.51</td>\n",
       "      <td>NaN</td>\n",
       "      <td>Energy</td>\n",
       "      <td>Coal</td>\n",
       "      <td>Bosnia</td>\n",
       "      <td>Europe</td>\n",
       "      <td>1.0</td>\n",
       "      <td>G</td>\n",
       "    </tr>\n",
       "    <tr>\n",
       "      <th>1334</th>\n",
       "      <td>2018</td>\n",
       "      <td>January</td>\n",
       "      <td>Southern Power</td>\n",
       "      <td>1300</td>\n",
       "      <td>0.28</td>\n",
       "      <td>Transelec</td>\n",
       "      <td>Energy</td>\n",
       "      <td>NaN</td>\n",
       "      <td>Chile</td>\n",
       "      <td>South America</td>\n",
       "      <td>1.0</td>\n",
       "      <td>NaN</td>\n",
       "    </tr>\n",
       "    <tr>\n",
       "      <th>1335</th>\n",
       "      <td>2018</td>\n",
       "      <td>January</td>\n",
       "      <td>Wuxi No.1 Cotton Mill</td>\n",
       "      <td>220</td>\n",
       "      <td>NaN</td>\n",
       "      <td>NaN</td>\n",
       "      <td>Other</td>\n",
       "      <td>Textiles</td>\n",
       "      <td>Ethiopia</td>\n",
       "      <td>Sub-Saharan Africa</td>\n",
       "      <td>1.0</td>\n",
       "      <td>G</td>\n",
       "    </tr>\n",
       "    <tr>\n",
       "      <th>1336</th>\n",
       "      <td>2018</td>\n",
       "      <td>January</td>\n",
       "      <td>New China Capital, China Moly, AXAM</td>\n",
       "      <td>460</td>\n",
       "      <td>1</td>\n",
       "      <td>Louis Dreyfus</td>\n",
       "      <td>Metals</td>\n",
       "      <td>NaN</td>\n",
       "      <td>Netherlands</td>\n",
       "      <td>Europe</td>\n",
       "      <td>0.0</td>\n",
       "      <td>NaN</td>\n",
       "    </tr>\n",
       "  </tbody>\n",
       "</table>\n",
       "</div>"
      ],
      "text/plain": [
       "      year    month                             investor  quant_in_mil  \\\n",
       "1332  2018  January                      China Merchants          1120   \n",
       "1333  2018  January                 China Poly, Sinomach           310   \n",
       "1334  2018  January                       Southern Power          1300   \n",
       "1335  2018  January                Wuxi No.1 Cotton Mill           220   \n",
       "1336  2018  January  New China Capital, China Moly, AXAM           460   \n",
       "\n",
       "     share_size transaction_party     sector subsector      country  \\\n",
       "1332        0.7               NaN  Transport  Shipping    Sri Lanka   \n",
       "1333       0.51               NaN     Energy      Coal       Bosnia   \n",
       "1334       0.28         Transelec     Energy       NaN        Chile   \n",
       "1335        NaN               NaN      Other  Textiles     Ethiopia   \n",
       "1336          1     Louis Dreyfus     Metals       NaN  Netherlands   \n",
       "\n",
       "                  region  BRI Greenfield  \n",
       "1332           West Asia  1.0          G  \n",
       "1333              Europe  1.0          G  \n",
       "1334       South America  1.0        NaN  \n",
       "1335  Sub-Saharan Africa  1.0          G  \n",
       "1336              Europe  0.0        NaN  "
      ]
     },
     "execution_count": 6,
     "metadata": {},
     "output_type": "execute_result"
    }
   ],
   "source": [
    "fy18.head()"
   ]
  },
  {
   "cell_type": "markdown",
   "metadata": {},
   "source": [
    "Immediately, these columns present interest:\n",
    "- Month (for transaction density over time)\n",
    "- Investor (who had highest foreign investment? SOE?)\n",
    "- Share size (avg? How does this distribution skew?)\n",
    "- Sector\n",
    "- Country (where are we seeing highest investment?)  \n",
    "BRI = Belt and Road Initiative  \n",
    "\"Greenfield\" investments are investments in new facilities ---> intrastructure/real estate ownership. This is historically a common tactic to establish a permanent foothold (seen in BRI countries, Turkey, Africa)"
   ]
  },
  {
   "cell_type": "code",
   "execution_count": 7,
   "metadata": {},
   "outputs": [
    {
     "data": {
      "text/plain": [
       "year                   int64\n",
       "month                 object\n",
       "investor              object\n",
       "quant_in_mil           int64\n",
       "share_size            object\n",
       "transaction_party     object\n",
       "sector                object\n",
       "subsector             object\n",
       "country               object\n",
       "region                object\n",
       "BRI                  float64\n",
       "Greenfield            object\n",
       "dtype: object"
      ]
     },
     "execution_count": 7,
     "metadata": {},
     "output_type": "execute_result"
    }
   ],
   "source": [
    "fy18.dtypes"
   ]
  },
  {
   "cell_type": "markdown",
   "metadata": {},
   "source": [
    "Analysis plan:  \n",
    "- Build out fy17 subset, get agg figures for comparison.  \n",
    "- Look at \"investor\"---who had the highest investment? What type of entities had highest investment?  \n",
    "- Look at \"sector\"---what sector had most investment? Did any sectors have major change comp. to fy17?  \n",
    "- Look at \"country\"---where is investment highest? Any regional trends/clusters?"
   ]
  },
  {
   "cell_type": "code",
   "execution_count": 8,
   "metadata": {},
   "outputs": [],
   "source": [
    "fy17 = prc[prc.Year == 2017]\n",
    "fy17.columns = ['year', 'month', 'investor', 'quant_in_mil', 'share_size', 'transaction_party', 'sector', 'subsector', 'country', 'region', 'BRI', 'Greenfield']"
   ]
  },
  {
   "cell_type": "code",
   "execution_count": 9,
   "metadata": {},
   "outputs": [
    {
     "data": {
      "text/html": [
       "<div>\n",
       "<style scoped>\n",
       "    .dataframe tbody tr th:only-of-type {\n",
       "        vertical-align: middle;\n",
       "    }\n",
       "\n",
       "    .dataframe tbody tr th {\n",
       "        vertical-align: top;\n",
       "    }\n",
       "\n",
       "    .dataframe thead th {\n",
       "        text-align: right;\n",
       "    }\n",
       "</style>\n",
       "<table border=\"1\" class=\"dataframe\">\n",
       "  <thead>\n",
       "    <tr style=\"text-align: right;\">\n",
       "      <th></th>\n",
       "      <th>year</th>\n",
       "      <th>month</th>\n",
       "      <th>investor</th>\n",
       "      <th>quant_in_mil</th>\n",
       "      <th>share_size</th>\n",
       "      <th>transaction_party</th>\n",
       "      <th>sector</th>\n",
       "      <th>subsector</th>\n",
       "      <th>country</th>\n",
       "      <th>region</th>\n",
       "      <th>BRI</th>\n",
       "      <th>Greenfield</th>\n",
       "    </tr>\n",
       "  </thead>\n",
       "  <tbody>\n",
       "    <tr>\n",
       "      <th>1151</th>\n",
       "      <td>2017</td>\n",
       "      <td>January</td>\n",
       "      <td>Sanpower</td>\n",
       "      <td>820</td>\n",
       "      <td>NaN</td>\n",
       "      <td>Valeant</td>\n",
       "      <td>Health</td>\n",
       "      <td>NaN</td>\n",
       "      <td>Canada</td>\n",
       "      <td>North America</td>\n",
       "      <td>0.0</td>\n",
       "      <td>NaN</td>\n",
       "    </tr>\n",
       "    <tr>\n",
       "      <th>1152</th>\n",
       "      <td>2017</td>\n",
       "      <td>January</td>\n",
       "      <td>Dalian Wanda</td>\n",
       "      <td>960</td>\n",
       "      <td>NaN</td>\n",
       "      <td>Nordic Cinema</td>\n",
       "      <td>Entertainment</td>\n",
       "      <td>NaN</td>\n",
       "      <td>Sweden</td>\n",
       "      <td>Europe</td>\n",
       "      <td>0.0</td>\n",
       "      <td>NaN</td>\n",
       "    </tr>\n",
       "    <tr>\n",
       "      <th>1153</th>\n",
       "      <td>2017</td>\n",
       "      <td>January</td>\n",
       "      <td>Hebei Iron</td>\n",
       "      <td>120</td>\n",
       "      <td>NaN</td>\n",
       "      <td>NaN</td>\n",
       "      <td>Metals</td>\n",
       "      <td>Steel</td>\n",
       "      <td>Serbia</td>\n",
       "      <td>Europe</td>\n",
       "      <td>1.0</td>\n",
       "      <td>NaN</td>\n",
       "    </tr>\n",
       "    <tr>\n",
       "      <th>1154</th>\n",
       "      <td>2017</td>\n",
       "      <td>January</td>\n",
       "      <td>Yonghui Superstores Co.</td>\n",
       "      <td>160</td>\n",
       "      <td>0.4</td>\n",
       "      <td>Daymong Worldwide</td>\n",
       "      <td>Other</td>\n",
       "      <td>Consumer</td>\n",
       "      <td>USA</td>\n",
       "      <td>USA</td>\n",
       "      <td>0.0</td>\n",
       "      <td>NaN</td>\n",
       "    </tr>\n",
       "    <tr>\n",
       "      <th>1155</th>\n",
       "      <td>2017</td>\n",
       "      <td>January</td>\n",
       "      <td>HNA</td>\n",
       "      <td>360</td>\n",
       "      <td>NaN</td>\n",
       "      <td>CBRE Global</td>\n",
       "      <td>Real estate</td>\n",
       "      <td>Property</td>\n",
       "      <td>USA</td>\n",
       "      <td>USA</td>\n",
       "      <td>0.0</td>\n",
       "      <td>NaN</td>\n",
       "    </tr>\n",
       "  </tbody>\n",
       "</table>\n",
       "</div>"
      ],
      "text/plain": [
       "      year    month                 investor  quant_in_mil share_size  \\\n",
       "1151  2017  January                 Sanpower           820        NaN   \n",
       "1152  2017  January             Dalian Wanda           960        NaN   \n",
       "1153  2017  January               Hebei Iron           120        NaN   \n",
       "1154  2017  January  Yonghui Superstores Co.           160        0.4   \n",
       "1155  2017  January                      HNA           360        NaN   \n",
       "\n",
       "      transaction_party         sector subsector country         region  BRI  \\\n",
       "1151            Valeant         Health       NaN  Canada  North America  0.0   \n",
       "1152      Nordic Cinema  Entertainment       NaN  Sweden         Europe  0.0   \n",
       "1153                NaN         Metals     Steel  Serbia         Europe  1.0   \n",
       "1154  Daymong Worldwide          Other  Consumer     USA            USA  0.0   \n",
       "1155        CBRE Global    Real estate  Property     USA            USA  0.0   \n",
       "\n",
       "     Greenfield  \n",
       "1151        NaN  \n",
       "1152        NaN  \n",
       "1153        NaN  \n",
       "1154        NaN  \n",
       "1155        NaN  "
      ]
     },
     "execution_count": 9,
     "metadata": {},
     "output_type": "execute_result"
    }
   ],
   "source": [
    "fy17.head()"
   ]
  },
  {
   "cell_type": "markdown",
   "metadata": {},
   "source": [
    "i.  \"Investor\" data"
   ]
  },
  {
   "cell_type": "code",
   "execution_count": 10,
   "metadata": {},
   "outputs": [
    {
     "data": {
      "text/plain": [
       "177170"
      ]
     },
     "execution_count": 10,
     "metadata": {},
     "output_type": "execute_result"
    }
   ],
   "source": [
    "fy17.quant_in_mil.sum()"
   ]
  },
  {
   "cell_type": "code",
   "execution_count": 11,
   "metadata": {},
   "outputs": [
    {
     "data": {
      "text/plain": [
       "105880"
      ]
     },
     "execution_count": 11,
     "metadata": {},
     "output_type": "execute_result"
    }
   ],
   "source": [
    "fy18.quant_in_mil.sum()"
   ]
  },
  {
   "cell_type": "code",
   "execution_count": 12,
   "metadata": {},
   "outputs": [
    {
     "data": {
      "text/plain": [
       "investor\n",
       "China Reform Holdings, Chem China                43060\n",
       "HNA                                              19440\n",
       "CIC                                              14550\n",
       "Ping An                                           9900\n",
       "Vanke, Hopu, Hillhouse, Bank of China             9060\n",
       "Tencent                                           6070\n",
       "Geely Auto                                        4710\n",
       "State Power Investment                            4570\n",
       "State Grid                                        3730\n",
       "CNPC                                              2810\n",
       "China Railway Corp, China Railway Engineering     2560\n",
       "Yankuang                                          2420\n",
       "Shandong Ruyi                                     2040\n",
       "China Communications Construction                 2030\n",
       "Alibaba                                           1980\n",
       "Legend                                            1900\n",
       "Fosun                                             1680\n",
       "Three Gorges                                      1650\n",
       "State Energy Investment                           1640\n",
       "Ningbo Joyson                                     1590\n",
       "Name: quant_in_mil, dtype: int64"
      ]
     },
     "execution_count": 12,
     "metadata": {},
     "output_type": "execute_result"
    }
   ],
   "source": [
    "fy17.groupby('investor').quant_in_mil.sum().sort_values(ascending=False).head(20)"
   ]
  },
  {
   "cell_type": "code",
   "execution_count": 13,
   "metadata": {},
   "outputs": [
    {
     "data": {
      "text/plain": [
       "investor\n",
       "Geely Auto                                                    9030\n",
       "China Energy Engineering, Power Construction Corp, Sinopec    5790\n",
       "Anta Sports                                                   5050\n",
       "Chengdu Tianqi                                                4070\n",
       "CNPC                                                          4010\n",
       "Alibaba                                                       3740\n",
       "Zijin Mining                                                  2670\n",
       "Oceanwide                                                     2650\n",
       "Kunming Iron                                                  2630\n",
       "Tsinghua Unigroup                                             2570\n",
       "AVIC                                                          2570\n",
       "Shandong Sun Paper                                            2540\n",
       "Zhongrong Xinda                                               2360\n",
       "Ping An                                                       2300\n",
       "CITIC                                                         1920\n",
       "Chinalco                                                      1460\n",
       "Sinopec                                                       1430\n",
       "CDH, China Grand                                              1430\n",
       "Southern Power                                                1300\n",
       "Orient Securities                                             1260\n",
       "Name: quant_in_mil, dtype: int64"
      ]
     },
     "execution_count": 13,
     "metadata": {},
     "output_type": "execute_result"
    }
   ],
   "source": [
    "fy18.groupby('investor').quant_in_mil.sum().sort_values(ascending=False).head(20)"
   ]
  },
  {
   "cell_type": "code",
   "execution_count": 14,
   "metadata": {},
   "outputs": [
    {
     "data": {
      "text/plain": [
       "month\n",
       "February     14960\n",
       "May          10880\n",
       "December     10760\n",
       "January      10250\n",
       "April        10080\n",
       "July          9970\n",
       "March         8200\n",
       "November      7350\n",
       "August        7050\n",
       "June          6830\n",
       "September     5310\n",
       "October       4240\n",
       "Name: quant_in_mil, dtype: int64"
      ]
     },
     "execution_count": 14,
     "metadata": {},
     "output_type": "execute_result"
    }
   ],
   "source": [
    "fy18.groupby('month').quant_in_mil.sum().sort_values(ascending=False).head(20)"
   ]
  },
  {
   "cell_type": "markdown",
   "metadata": {},
   "source": [
    "ii. \"Sector\" data"
   ]
  },
  {
   "cell_type": "code",
   "execution_count": 15,
   "metadata": {},
   "outputs": [
    {
     "data": {
      "text/plain": [
       "sector\n",
       "Agriculture      45870\n",
       "Transport        27440\n",
       "Logistics        23880\n",
       "Energy           21440\n",
       "Finance          15990\n",
       "Real estate      13500\n",
       "Other             7850\n",
       "Entertainment     6900\n",
       "Health            5670\n",
       "Technology        3270\n",
       "Metals            2830\n",
       "Tourism           2420\n",
       "Utilities          110\n",
       "Name: quant_in_mil, dtype: int64"
      ]
     },
     "execution_count": 15,
     "metadata": {},
     "output_type": "execute_result"
    }
   ],
   "source": [
    "fy17.groupby('sector').quant_in_mil.sum().sort_values(ascending=False)"
   ]
  },
  {
   "cell_type": "code",
   "execution_count": 16,
   "metadata": {},
   "outputs": [
    {
     "data": {
      "text/plain": [
       "sector\n",
       "Energy           21090\n",
       "Metals           18850\n",
       "Transport        18550\n",
       "Other            11900\n",
       "Technology        8420\n",
       "Entertainment     7700\n",
       "Finance           7180\n",
       "Health            5370\n",
       "Agriculture       2440\n",
       "Real estate       2120\n",
       "Utilities          870\n",
       "Chemicals          730\n",
       "Tourism            560\n",
       "Logistics          100\n",
       "Name: quant_in_mil, dtype: int64"
      ]
     },
     "execution_count": 16,
     "metadata": {},
     "output_type": "execute_result"
    }
   ],
   "source": [
    "fy18.groupby('sector').quant_in_mil.sum().sort_values(ascending=False)"
   ]
  },
  {
   "cell_type": "markdown",
   "metadata": {},
   "source": [
    "iii. \"Country\" data"
   ]
  },
  {
   "cell_type": "code",
   "execution_count": 17,
   "metadata": {},
   "outputs": [
    {
     "data": {
      "text/plain": [
       "country\n",
       "Switzerland                         45370\n",
       "Britain                             28800\n",
       "USA                                 24640\n",
       "Singapore                           13220\n",
       "Brazil                               9620\n",
       "Germany                              7010\n",
       "Australia                            5720\n",
       "Sweden                               5460\n",
       "Laos                                 3360\n",
       "UAE                                  2960\n",
       "India                                2920\n",
       "Japan                                2350\n",
       "Greece                               2310\n",
       "Canada                               2280\n",
       "Peru                                 1890\n",
       "Luxembourg                           1760\n",
       "Pakistan                             1680\n",
       "Indonesia                            1510\n",
       "Sri Lanka                            1430\n",
       "France                               1350\n",
       "Argentina                            1060\n",
       "Slovenia                             1050\n",
       "Malaysia                              930\n",
       "Italy                                 890\n",
       "Denmark                               730\n",
       "Iran                                  730\n",
       "Russian Federation                    600\n",
       "Portugal                              570\n",
       "South Korea                           570\n",
       "New Zealand                           450\n",
       "Democratic Republic of the Congo      420\n",
       "Spain                                 390\n",
       "Kenya                                 310\n",
       "Uzbekistan                            300\n",
       "Serbia                                260\n",
       "Vietnam                               250\n",
       "Liberia                               250\n",
       "Austria                               230\n",
       "Thailand                              230\n",
       "Hungary                               210\n",
       "Poland                                210\n",
       "Guinea-Bissau                         170\n",
       "Israel                                170\n",
       "Kazakhstan                            110\n",
       "Maldives                              110\n",
       "Mexico                                110\n",
       "Samoa                                 110\n",
       "Bangladesh                            110\n",
       "Name: quant_in_mil, dtype: int64"
      ]
     },
     "execution_count": 17,
     "metadata": {},
     "output_type": "execute_result"
    }
   ],
   "source": [
    "fy17.groupby('country').quant_in_mil.sum().sort_values(ascending=False)"
   ]
  },
  {
   "cell_type": "code",
   "execution_count": 18,
   "metadata": {},
   "outputs": [
    {
     "data": {
      "text/plain": [
       "country\n",
       "Germany                             12750\n",
       "USA                                  9680\n",
       "Britain                              6950\n",
       "Nigeria                              6540\n",
       "Chile                                6440\n",
       "Finland                              5660\n",
       "Canada                               5170\n",
       "France                               4840\n",
       "Bangladesh                           3660\n",
       "Peru                                 3660\n",
       "Australia                            3160\n",
       "India                                3110\n",
       "Serbia                               2510\n",
       "Netherlands                          2420\n",
       "UAE                                  2230\n",
       "Singapore                            2200\n",
       "South Africa                         1330\n",
       "Spain                                1260\n",
       "Brazil                               1260\n",
       "Sweden                               1210\n",
       "Japan                                1170\n",
       "Sri Lanka                            1120\n",
       "Indonesia                            1110\n",
       "Laos                                 1060\n",
       "Guinea                                990\n",
       "Zimbabwe                              980\n",
       "Ecuador                               920\n",
       "Switzerland                           880\n",
       "Zambia                                820\n",
       "Cambodia                              800\n",
       "Kuwait                                650\n",
       "Norway                                630\n",
       "South Korea                           600\n",
       "Ethiopia                              580\n",
       "Thailand                              550\n",
       "Italy                                 550\n",
       "Ireland                               520\n",
       "Jordan                                500\n",
       "Russian Federation                    480\n",
       "Luxembourg                            470\n",
       "Malaysia                              440\n",
       "Democratic Republic of the Congo      410\n",
       "Czech Republic                        350\n",
       "Slovenia                              340\n",
       "Pakistan                              330\n",
       "Bosnia                                310\n",
       "Venezuela                             250\n",
       "Taiwan                                240\n",
       "Croatia                               220\n",
       "Congo                                 220\n",
       "Uzbekistan                            200\n",
       "Egypt                                 180\n",
       "Vietnam                               160\n",
       "Kazakhstan                            160\n",
       "Nepal                                 140\n",
       "Namibia                               110\n",
       "Botswana                              100\n",
       "Belgium                               100\n",
       "Israel                                100\n",
       "Gabon                                 100\n",
       "Name: quant_in_mil, dtype: int64"
      ]
     },
     "execution_count": 18,
     "metadata": {},
     "output_type": "execute_result"
    }
   ],
   "source": [
    "fy18.groupby('country').quant_in_mil.sum().sort_values(ascending=False)"
   ]
  },
  {
   "cell_type": "code",
   "execution_count": 24,
   "metadata": {},
   "outputs": [
    {
     "data": {
      "text/plain": [
       "region\n",
       "Europe                               96770\n",
       "USA                                  24640\n",
       "East Asia                            22980\n",
       "South America                        12570\n",
       "West Asia                             7990\n",
       "Australia                             5720\n",
       "Arab Middle East and North Africa     2960\n",
       "North America                         2390\n",
       "Sub-Saharan Africa                    1150\n",
       "Name: quant_in_mil, dtype: int64"
      ]
     },
     "execution_count": 24,
     "metadata": {},
     "output_type": "execute_result"
    }
   ],
   "source": [
    "fy17.groupby('region').quant_in_mil.sum().sort_values(ascending=False)"
   ]
  },
  {
   "cell_type": "code",
   "execution_count": 19,
   "metadata": {},
   "outputs": [
    {
     "data": {
      "text/plain": [
       "region\n",
       "Europe                               42070\n",
       "South America                        12530\n",
       "Sub-Saharan Africa                   12180\n",
       "USA                                   9680\n",
       "West Asia                             9200\n",
       "East Asia                             8330\n",
       "North America                         5170\n",
       "Arab Middle East and North Africa     3560\n",
       "Australia                             3160\n",
       "Name: quant_in_mil, dtype: int64"
      ]
     },
     "execution_count": 19,
     "metadata": {},
     "output_type": "execute_result"
    }
   ],
   "source": [
    "fy18.groupby('region').quant_in_mil.sum().sort_values(ascending=False)"
   ]
  },
  {
   "cell_type": "code",
   "execution_count": 21,
   "metadata": {},
   "outputs": [
    {
     "data": {
      "text/plain": [
       "105880"
      ]
     },
     "execution_count": 21,
     "metadata": {},
     "output_type": "execute_result"
    }
   ],
   "source": [
    "fy18.quant_in_mil.sum()"
   ]
  },
  {
   "cell_type": "code",
   "execution_count": 22,
   "metadata": {},
   "outputs": [
    {
     "name": "stdout",
     "output_type": "stream",
     "text": [
      "66780\n"
     ]
    }
   ],
   "source": [
    "x = 42070 + 12530 + 12180\n",
    "print(x)"
   ]
  },
  {
   "cell_type": "code",
   "execution_count": 23,
   "metadata": {},
   "outputs": [
    {
     "name": "stdout",
     "output_type": "stream",
     "text": [
      "0.6307140158670193\n"
     ]
    }
   ],
   "source": [
    "z = x/105880\n",
    "print(z)"
   ]
  },
  {
   "cell_type": "code",
   "execution_count": 20,
   "metadata": {},
   "outputs": [],
   "source": [
    "fy17_switz = fy17[fy17.country=='Switzerland']"
   ]
  },
  {
   "cell_type": "code",
   "execution_count": 31,
   "metadata": {},
   "outputs": [
    {
     "data": {
      "text/html": [
       "<div>\n",
       "<style scoped>\n",
       "    .dataframe tbody tr th:only-of-type {\n",
       "        vertical-align: middle;\n",
       "    }\n",
       "\n",
       "    .dataframe tbody tr th {\n",
       "        vertical-align: top;\n",
       "    }\n",
       "\n",
       "    .dataframe thead th {\n",
       "        text-align: right;\n",
       "    }\n",
       "</style>\n",
       "<table border=\"1\" class=\"dataframe\">\n",
       "  <thead>\n",
       "    <tr style=\"text-align: right;\">\n",
       "      <th></th>\n",
       "      <th>year</th>\n",
       "      <th>month</th>\n",
       "      <th>investor</th>\n",
       "      <th>quant_in_mil</th>\n",
       "      <th>share_size</th>\n",
       "      <th>transaction_party</th>\n",
       "      <th>sector</th>\n",
       "      <th>subsector</th>\n",
       "      <th>country</th>\n",
       "      <th>region</th>\n",
       "      <th>BRI</th>\n",
       "      <th>Greenfield</th>\n",
       "    </tr>\n",
       "  </thead>\n",
       "  <tbody>\n",
       "    <tr>\n",
       "      <th>1194</th>\n",
       "      <td>2017</td>\n",
       "      <td>March</td>\n",
       "      <td>HNA</td>\n",
       "      <td>580</td>\n",
       "      <td>0.51</td>\n",
       "      <td>Glencore</td>\n",
       "      <td>Energy</td>\n",
       "      <td>Oil</td>\n",
       "      <td>Switzerland</td>\n",
       "      <td>Europe</td>\n",
       "      <td>0.0</td>\n",
       "      <td>NaN</td>\n",
       "    </tr>\n",
       "    <tr>\n",
       "      <th>1204</th>\n",
       "      <td>2017</td>\n",
       "      <td>April</td>\n",
       "      <td>HNA</td>\n",
       "      <td>1360</td>\n",
       "      <td>0.16</td>\n",
       "      <td>Dufry</td>\n",
       "      <td>Tourism</td>\n",
       "      <td>NaN</td>\n",
       "      <td>Switzerland</td>\n",
       "      <td>Europe</td>\n",
       "      <td>0.0</td>\n",
       "      <td>NaN</td>\n",
       "    </tr>\n",
       "    <tr>\n",
       "      <th>1212</th>\n",
       "      <td>2017</td>\n",
       "      <td>May</td>\n",
       "      <td>HNA</td>\n",
       "      <td>370</td>\n",
       "      <td>0.04</td>\n",
       "      <td>Dufry</td>\n",
       "      <td>Tourism</td>\n",
       "      <td>NaN</td>\n",
       "      <td>Switzerland</td>\n",
       "      <td>Europe</td>\n",
       "      <td>0.0</td>\n",
       "      <td>NaN</td>\n",
       "    </tr>\n",
       "    <tr>\n",
       "      <th>1244</th>\n",
       "      <td>2017</td>\n",
       "      <td>June</td>\n",
       "      <td>China Reform Holdings, Chem China</td>\n",
       "      <td>43060</td>\n",
       "      <td>0.98</td>\n",
       "      <td>Syngenta</td>\n",
       "      <td>Agriculture</td>\n",
       "      <td>NaN</td>\n",
       "      <td>Switzerland</td>\n",
       "      <td>Europe</td>\n",
       "      <td>0.0</td>\n",
       "      <td>NaN</td>\n",
       "    </tr>\n",
       "  </tbody>\n",
       "</table>\n",
       "</div>"
      ],
      "text/plain": [
       "      year  month                           investor  quant_in_mil share_size  \\\n",
       "1194  2017  March                                HNA           580       0.51   \n",
       "1204  2017  April                                HNA          1360       0.16   \n",
       "1212  2017    May                                HNA           370       0.04   \n",
       "1244  2017   June  China Reform Holdings, Chem China         43060       0.98   \n",
       "\n",
       "     transaction_party       sector subsector      country  region  BRI  \\\n",
       "1194          Glencore       Energy       Oil  Switzerland  Europe  0.0   \n",
       "1204             Dufry      Tourism       NaN  Switzerland  Europe  0.0   \n",
       "1212             Dufry      Tourism       NaN  Switzerland  Europe  0.0   \n",
       "1244          Syngenta  Agriculture       NaN  Switzerland  Europe  0.0   \n",
       "\n",
       "     Greenfield  \n",
       "1194        NaN  \n",
       "1204        NaN  \n",
       "1212        NaN  \n",
       "1244        NaN  "
      ]
     },
     "execution_count": 31,
     "metadata": {},
     "output_type": "execute_result"
    }
   ],
   "source": [
    "fy17_switz"
   ]
  },
  {
   "cell_type": "code",
   "execution_count": null,
   "metadata": {},
   "outputs": [],
   "source": []
  }
 ],
 "metadata": {
  "kernelspec": {
   "display_name": "Python 3",
   "language": "python",
   "name": "python3"
  },
  "language_info": {
   "codemirror_mode": {
    "name": "ipython",
    "version": 3
   },
   "file_extension": ".py",
   "mimetype": "text/x-python",
   "name": "python",
   "nbconvert_exporter": "python",
   "pygments_lexer": "ipython3",
   "version": "3.7.3"
  }
 },
 "nbformat": 4,
 "nbformat_minor": 2
}
